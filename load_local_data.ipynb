{
 "cells": [
  {
   "cell_type": "code",
   "execution_count": 2,
   "metadata": {},
   "outputs": [
    {
     "name": "stderr",
     "output_type": "stream",
     "text": [
      "Generating train split: 6000 examples [00:00, 114079.50 examples/s]\n"
     ]
    }
   ],
   "source": [
    "from datasets import load_dataset\n",
    "dataset_name = \"pretrain_data.json\"\n",
    "dataset = load_dataset(\"json\",  data_files=dataset_name, split=\"train\")"
   ]
  },
  {
   "cell_type": "code",
   "execution_count": 4,
   "metadata": {},
   "outputs": [
    {
     "name": "stdout",
     "output_type": "stream",
     "text": [
      "EFG 2 R \"Untitled extensive game\" { \"Alice\" \"Bob\" }\n",
      "\"\"\n",
      "\n",
      "p \"\" 2 1 \"\" { \"P2 choice 0\" \"P2 choice 1\" } 0\n",
      "p \"\" 2 2 \"\" { \"P2 choice 0\" \"P2 choice 1\" } 0\n",
      "c \"\" 1 \"\" { \"Chance 0\" 2/21 \"Chance 1\" 19/21 } 0\n",
      "p \"\" 1 1 \"\" { \"P1 choice 0\" \"P1 choice 1\" } 0\n",
      "t \"\" 1 \"\" { -2, 6 }\n",
      "t \"\" 2 \"\" { -2, -2 }\n",
      "p \"\" 2 3 \"\" { \"P2 choice 0\" \"P2 choice 1\" \"P2 choice 2\" } 0\n",
      "t \"\" 3 \"\" { -2, -6 }\n",
      "t \"\" 4 \"\" { 2, -8 }\n",
      "t \"\" 5 \"\" { -5, -8 }\n",
      "p \"\" 2 4 \"\" { \"P2 choice 0\" \"P2 choice 1\" \"P2 choice 2\" } 0\n",
      "p \"\" 1 2 \"\" { \"P1 choice 0\" \"P1 choice 1\" } 0\n",
      "t \"\" 6 \"\" { -6, 5 }\n",
      "t \"\" 7 \"\" { 10, -5 }\n",
      "p \"\" 1 3 \"\" { \"P1 choice 0\" \"P1 choice 1\" } 0\n",
      "t \"\" 8 \"\" { -6, 1 }\n",
      "t \"\" 9 \"\" { 8, -10 }\n",
      "p \"\" 2 5 \"\" { \"P2 choice 0\" \"P2 choice 1\" } 0\n",
      "t \"\" 10 \"\" { -4, -7 }\n",
      "t \"\" 11 \"\" { 4, -6 }\n",
      "p \"\" 1 4 \"\" { \"P1 choice 0\" \"P1 choice 1\" } 0\n",
      "p \"\" 2 6 \"\" { \"P2 choice 0\" \"P2 choice 1\" } 0\n",
      "p \"\" 1 5 \"\" { \"P1 choice 0\" \"P1 choice 1\" } 0\n",
      "t \"\" 12 \"\" { 0, -2 }\n",
      "t \"\" 13 \"\" { -6, 5 }\n",
      "p \"\" 2 7 \"\" { \"P2 choice 0\" \"P2 choice 1\" } 0\n",
      "t \"\" 14 \"\" { 10, -7 }\n",
      "t \"\" 15 \"\" { 10, 6 }\n",
      "p \"\" 1 6 \"\" { \"P1 choice 0\" \"P1 choice 1\" } 0\n",
      "p \"\" 2 8 \"\" { \"P2 choice 0\" \"P2 choice 1\" \"P2 choice 2\" } 0\n",
      "t \"\" 16 \"\" { -6, -4 }\n",
      "t \"\" 17 \"\" { -6, -10 }\n",
      "t \"\" 18 \"\" { -5, 10 }\n",
      "p \"\" 1 7 \"\" { \"P1 choice 0\" \"P1 choice 1\" \"P1 choice 2\" } 0\n",
      "t \"\" 19 \"\" { 5, 10 }\n",
      "t \"\" 20 \"\" { -2, 2 }\n",
      "t \"\" 21 \"\" { 1, -4 }\n",
      "\n"
     ]
    }
   ],
   "source": [
    "print(dataset[1]['text'])"
   ]
  }
 ],
 "metadata": {
  "kernelspec": {
   "display_name": "gamellm",
   "language": "python",
   "name": "python3"
  },
  "language_info": {
   "codemirror_mode": {
    "name": "ipython",
    "version": 3
   },
   "file_extension": ".py",
   "mimetype": "text/x-python",
   "name": "python",
   "nbconvert_exporter": "python",
   "pygments_lexer": "ipython3",
   "version": "3.10.14"
  },
  "orig_nbformat": 4
 },
 "nbformat": 4,
 "nbformat_minor": 2
}
